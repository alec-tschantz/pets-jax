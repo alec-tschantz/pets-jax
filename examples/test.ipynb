{
 "cells": [
  {
   "cell_type": "code",
   "execution_count": 1,
   "metadata": {},
   "outputs": [],
   "source": [
    "import equinox as eqx\n",
    "from jax import numpy as jnp, random as jr, vmap, nn, lax\n",
    "\n",
    "import numpy as np\n",
    "from matplotlib import pyplot as plt\n",
    "\n",
    "from pets.control import plan\n",
    "from pets.model import Ensemble\n",
    "from pets.dataset import Dataset\n",
    "from pets.envs.atari import AtariEnv, reward_fn"
   ]
  },
  {
   "cell_type": "code",
   "execution_count": 2,
   "metadata": {},
   "outputs": [],
   "source": [
    "def rollout_fn(state, action):\n",
    "    states = model.rollout(state, action, stats, key)\n",
    "    rewards = reward_fn(states)\n",
    "    return states, rewards.mean(-1)[..., None]\n",
    "\n",
    "\n",
    "def act(state):\n",
    "    probs, _, _ = plan(state, rollout_fn, action_dim, key)\n",
    "    return probs.mean(1).argmax(-1)[0]"
   ]
  },
  {
   "cell_type": "code",
   "execution_count": 3,
   "metadata": {},
   "outputs": [
    {
     "name": "stderr",
     "output_type": "stream",
     "text": [
      "A.L.E: Arcade Learning Environment (version 0.8.1+53f58b7)\n",
      "[Powered by Stella]\n"
     ]
    },
    {
     "ename": "",
     "evalue": "",
     "output_type": "error",
     "traceback": [
      "\u001b[1;31mThe Kernel crashed while executing code in the current cell or a previous cell. \n",
      "\u001b[1;31mPlease review the code in the cell(s) to identify a possible cause of the failure. \n",
      "\u001b[1;31mClick <a href='https://aka.ms/vscodeJupyterKernelCrash'>here</a> for more info. \n",
      "\u001b[1;31mView Jupyter <a href='command:jupyter.viewOutput'>log</a> for further details."
     ]
    }
   ],
   "source": [
    "\"\"\" experiment parameters \"\"\"\n",
    "key = jr.PRNGKey(0)\n",
    "\n",
    "num_steps = 80\n",
    "ensemble_dim, hidden_dim = 5, 200\n",
    "\n",
    "\"\"\" environment \"\"\"\n",
    "env = AtariEnv(\"PongDeterministic-v4\", render_mode=\"human\")\n",
    "state_dim, action_dim = env.observation_space.shape[0], 3\n",
    "\n",
    "\"\"\" model \"\"\"\n",
    "model = Ensemble(state_dim + 1, state_dim, hidden_dim, ensemble_dim, key=key)\n",
    "model = eqx.tree_deserialise_leaves(\"../data/model.eqx\", model)\n",
    "\n",
    "\"\"\" dataset \"\"\"\n",
    "dataset = Dataset.load(\"../data/dataset.pkl\")\n",
    "stats = dataset.stats()\n",
    "\n",
    "\"\"\" test model \"\"\"\n",
    "(state, _), total_reward = env.reset(), 0.0\n",
    "for _ in range(num_steps):\n",
    "    action = act(state)\n",
    "    next_state, reward, done, truncated, info = env.step(action)\n",
    "    total_reward = total_reward + reward\n",
    "print(f\"reward: {total_reward}\")"
   ]
  }
 ],
 "metadata": {
  "kernelspec": {
   "display_name": "svae",
   "language": "python",
   "name": "python3"
  },
  "language_info": {
   "codemirror_mode": {
    "name": "ipython",
    "version": 3
   },
   "file_extension": ".py",
   "mimetype": "text/x-python",
   "name": "python",
   "nbconvert_exporter": "python",
   "pygments_lexer": "ipython3",
   "version": "3.11.6"
  }
 },
 "nbformat": 4,
 "nbformat_minor": 2
}
