{
 "cells": [
  {
   "cell_type": "code",
   "execution_count": 1,
   "metadata": {},
   "outputs": [],
   "source": [
    "import equinox as eqx\n",
    "from jax import numpy as jnp, random as jr, vmap, nn, lax\n",
    "\n",
    "import numpy as np\n",
    "from matplotlib import pyplot as plt\n",
    "\n",
    "from pets.control import plan\n",
    "from pets.model import Ensemble\n",
    "from pets.dataset import Dataset\n",
    "from pets.envs.atari import AtariEnv, reward_fn"
   ]
  },
  {
   "cell_type": "code",
   "execution_count": 2,
   "metadata": {},
   "outputs": [],
   "source": [
    "def rollout_fn(state, action):\n",
    "    states = model.rollout(state, action, stats, key)\n",
    "    rewards = reward_fn(states)\n",
    "    return states, rewards.mean(-1)[..., None]\n",
    "\n",
    "\n",
    "def act(state):\n",
    "    probs, _, _ = plan(state, rollout_fn, action_dim, key)\n",
    "    return probs.mean(1).argmax(-1)[0]"
   ]
  },
  {
   "cell_type": "code",
   "execution_count": null,
   "metadata": {},
   "outputs": [],
   "source": [
    "key = jr.PRNGKey(1)\n",
    "\n",
    "num_steps = 80\n",
    "ensemble_dim, hidden_dim = 5, 200\n",
    "\n",
    "env = AtariEnv(\"PongDeterministic-v4\", render_mode=\"human\")\n",
    "state_dim, action_dim = env.observation_space.shape[0], 3\n",
    "\n",
    "model = Ensemble(state_dim + 1, state_dim, hidden_dim, ensemble_dim, key=key)\n",
    "model = eqx.tree_deserialise_leaves(\"../data/model.eqx\", model)\n",
    "\n",
    "dataset = Dataset.load(\"../data/dataset.pkl\")\n",
    "stats = dataset.stats()\n",
    "\n",
    "(state, _), total_reward = env.reset(), 0.0\n",
    "for _ in range(num_steps):\n",
    "    action = act(state)\n",
    "    state, reward, done, truncated, info = env.step(action)\n",
    "    total_reward = total_reward + reward\n",
    "\n",
    "print(f\"reward: {total_reward}\")"
   ]
  }
 ],
 "metadata": {
  "kernelspec": {
   "display_name": "svae",
   "language": "python",
   "name": "python3"
  },
  "language_info": {
   "codemirror_mode": {
    "name": "ipython",
    "version": 3
   },
   "file_extension": ".py",
   "mimetype": "text/x-python",
   "name": "python",
   "nbconvert_exporter": "python",
   "pygments_lexer": "ipython3",
   "version": "3.11.6"
  }
 },
 "nbformat": 4,
 "nbformat_minor": 2
}
